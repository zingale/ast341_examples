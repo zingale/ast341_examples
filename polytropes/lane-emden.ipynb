{
 "cells": [
  {
   "cell_type": "markdown",
   "metadata": {},
   "source": [
    "# Lane-Emden polytrope equation\n",
    "\n",
    "We want to solve the Lane-Emden equation:\n",
    "\\begin{equation}\n",
    "\\frac{1}{\\xi^2} \\frac{d}{d\\xi} \\left (\\xi^2 \\frac{d\\theta}{d\\xi} \\right ) = -\\theta^n\n",
    "\\end{equation}\n",
    "using a Runge-Kutta integration.  We will rewrite this as 2 first order equations:\n",
    "\\begin{eqnarray*}\n",
    "\\frac{dy}{d\\xi} &=& z \\\\\n",
    "\\frac{dz}{d\\xi} &=& -\\frac{2}{\\xi}z - y^n\n",
    "\\end{eqnarray*}"
   ]
  },
  {
   "cell_type": "code",
   "execution_count": 1,
   "metadata": {},
   "outputs": [],
   "source": [
    "import matplotlib.pyplot as plt\n",
    "import numpy as np\n",
    "%matplotlib inline"
   ]
  },
  {
   "cell_type": "markdown",
   "metadata": {},
   "source": [
    "This is our main class that does the integration.  We initialize it with the polytopic index, and then it will integrate the system for us.  We can then plot it or get\n",
    "the parameters $\\xi_1$ and $-\\xi_1^2 d\\theta/d\\xi |_{\\xi_1}$\n",
    "\n",
    "We estimate the radius, $\\xi_1$ each step and make sure that the next step does not take us past that estimate.  This prevents us from having negative $\\theta$ values.  Given a point $(\\xi_0, y_0)$, and the derivative at that point, $z_0 = dy/d\\xi |_{\\xi_0}$, we can write the equation of a line as:\n",
    "\\begin{equation}\n",
    "    y(\\xi) - y_0 = z_0 (\\xi - \\xi_0)\n",
    "\\end{equation}\n",
    "Then we can ask when does $y$ become zero, finding:\n",
    "\\begin{equation}\n",
    "    \\xi = -\\frac{y_0}{z_0} + \\xi_0\n",
    "\\end{equation}\n",
    "This is our estimate of $\\xi_1$.  We then make sure our stepsize $h$ is small enough that we do not go beyond this estimate.\n",
    "\n",
    "This class uses 4th-order Runge-Kutta (or first-order Euler if we call with `first_order=True`) with a fixed stepsize, `h0`, until we reach the edge of the star.  We need to be careful to choose a value of `h0` small enough to get an accurate solution.  Ideally, we should implement a method that automatically does error estimation as it integrates, and varies the stepsize as needed."
   ]
  },
  {
   "cell_type": "code",
   "execution_count": 2,
   "metadata": {},
   "outputs": [],
   "source": [
    "class Polytrope:\n",
    "    \"\"\"a polytrope of index n\"\"\"\n",
    "    def __init__(self, n, first_order=False, h0=0.1, tol=1.e-12):\n",
    "        self.n = n\n",
    "        \n",
    "        # storage for the solution history\n",
    "        self.xi = []\n",
    "        self.theta = []\n",
    "        self.dtheta_dxi = []\n",
    "        \n",
    "        # solution for the current solution point (y, z) -- initialized to\n",
    "        # the boundary conditions\n",
    "        self.q = np.array([1.0, 0.0], dtype=np.float64)\n",
    "        \n",
    "        # already integrate the solution\n",
    "        if first_order:\n",
    "            self._integrate_euler(h0, tol)\n",
    "        else:\n",
    "            self._integrate_rk4(h0, tol)\n",
    "\n",
    "        # convert the data to a numpy array so we can more easily\n",
    "        # manipulate it\n",
    "        self.xi = np.asarray(self.xi)\n",
    "        self.theta = np.asarray(self.theta)\n",
    "        self.dtheta_dxi = np.asarray(self.dtheta_dxi)\n",
    "\n",
    "    def store_solution(self, xi, y, z):\n",
    "        \"\"\"store the current solution point in the history\"\"\"\n",
    "        self.xi.append(xi)\n",
    "        self.theta.append(y)\n",
    "        self.dtheta_dxi.append(z)\n",
    "        \n",
    "    def _estimate_h(self, hin, xi):\n",
    "        \"\"\"estimate the new step size to ensure that theta does not\n",
    "        go negative\"\"\"\n",
    "\n",
    "        # Our systems is always convex (theta'' < 0), so the\n",
    "        # intersection of theta' with the x-axis will always be\n",
    "        # a conservative estimate of the radius of the star.\n",
    "        # Make sure that the stepsize does not take us past that.        \n",
    "        R_est = xi - self.q[0]/self.q[1]\n",
    "        if xi + hin > R_est:\n",
    "            return -self.q[0]/self.q[1]\n",
    "        return hin\n",
    "        \n",
    "    def _integrate_euler(self, h0, tol):\n",
    "        \"\"\"integrate the Lane-Emden system using first-order Euler\"\"\"\n",
    "\n",
    "        xi = 0.0\n",
    "        h = h0\n",
    "\n",
    "        while h > tol:\n",
    "            self.q += h * self._rhs(xi, self.q)\n",
    "            xi += h\n",
    "\n",
    "            h = self._estimate_h(h, xi)\n",
    "\n",
    "            # store the solution\n",
    "            self.store_solution(xi, self.q[0], self.q[1])\n",
    "\n",
    "    def _integrate_rk4(self, h0, tol):\n",
    "        \"\"\"integrate the Lane-Emden system\"\"\"\n",
    "\n",
    "        xi = 0.0\n",
    "        h = h0\n",
    "\n",
    "        while h > tol:\n",
    "            # 4th order RK integration -- first find the slopes\n",
    "            k1 = self._rhs(xi, self.q)\n",
    "            k2 = self._rhs(xi+0.5*h, self.q+0.5*h*k1)\n",
    "            k3 = self._rhs(xi+0.5*h, self.q+0.5*h*k2)\n",
    "            k4 = self._rhs(xi+h, self.q+h*k3)\n",
    "\n",
    "            # now update the solution to the new xi\n",
    "            self.q += (h/6.0)*(k1 + 2*k2 + 2*k3 + k4)\n",
    "            xi += h\n",
    "\n",
    "            h = self._estimate_h(h, xi)\n",
    "            \n",
    "            # store the solution:\n",
    "            self.store_solution(xi, self.q[0], self.q[1])\n",
    "\n",
    "    def _rhs(self, xi, q):\n",
    "        \"\"\" the righthand side of the LE system, q' = f\"\"\"\n",
    "\n",
    "        f = np.zeros_like(q)\n",
    "\n",
    "        # y' = z\n",
    "        f[0] = q[1]\n",
    "        \n",
    "        # for z', we need to use the expansion if we are at xi = 0,\n",
    "        # to avoid dividing by 0\n",
    "        if xi == 0.0:\n",
    "            f[1] = (2.0/3.0) - q[0]**self.n\n",
    "        else:\n",
    "            f[1] = -2.0*q[1]/xi - q[0]**self.n\n",
    "\n",
    "        return f\n",
    "\n",
    "    def get_params(self):\n",
    "        \"\"\" return the standard polytrope parameters xi_1,\n",
    "        and [-xi**2 theta']_{xi_1} \"\"\"\n",
    "        xi1 = self.xi[-1]\n",
    "        p2 = -xi1**2 * self.dtheta_dxi[-1]\n",
    "        return xi1, p2\n",
    "\n",
    "    def plot(self):\n",
    "        \"\"\" plot the solution \"\"\"\n",
    "        plt.plot(self.xi, self.theta, label=r\"$\\theta$\")\n",
    "        plt.plot(self.xi, self.theta**self.n, label=r\"$\\rho/\\rho_c$\")\n",
    "        plt.xlabel(r\"$\\xi$\")\n",
    "        plt.legend(frameon=False)\n",
    "        plt.show()"
   ]
  },
  {
   "cell_type": "markdown",
   "metadata": {},
   "source": [
    "We can plot any of the polytrope solutions"
   ]
  },
  {
   "cell_type": "code",
   "execution_count": 3,
   "metadata": {},
   "outputs": [
    {
     "data": {
      "image/png": "[encoded data removed]",
      "text/plain": [
       "<Figure size 432x288 with 1 Axes>"
      ]
     },
     "metadata": {
      "needs_background": "light"
     },
     "output_type": "display_data"
    }
   ],
   "source": [
    "p = Polytrope(1.5)\n",
    "p.plot()"
   ]
  },
  {
   "cell_type": "code",
   "execution_count": 4,
   "metadata": {},
   "outputs": [
    {
     "data": {
      "image/png": "[encoded data removed]",
      "text/plain": [
       "<Figure size 432x288 with 1 Axes>"
      ]
     },
     "metadata": {
      "needs_background": "light"
     },
     "output_type": "display_data"
    }
   ],
   "source": [
    "p = Polytrope(4)\n",
    "p.plot()"
   ]
  },
  {
   "cell_type": "markdown",
   "metadata": {},
   "source": [
    "### properties with varying polytropic index\n",
    "Here's a table of the important parameters"
   ]
  },
  {
   "cell_type": "code",
   "execution_count": 5,
   "metadata": {},
   "outputs": [
    {
     "name": "stdout",
     "output_type": "stream",
     "text": [
      "n    :         ξ_1          -ξ_1**2 dθ/ξ |_{ξ_1}\n",
      "   0 :                 2.45          4.902041667\n",
      " 0.5 :          2.752694496          3.787683423\n",
      "   1 :          3.141591734          3.141593131\n",
      " 1.5 :          3.653752765          2.714056597\n",
      "   2 :          4.352873728          2.411044249\n",
      " 2.5 :          5.355275716          2.187197386\n",
      "   3 :          6.896852479          2.018233566\n",
      " 3.5 :          9.535820161           1.89055466\n",
      "   4 :           14.9716009          1.797227648\n",
      " 4.5 :           31.8367713          1.737797137\n"
     ]
    }
   ],
   "source": [
    "for i, nindex in enumerate([0, 0.5, 1, 1.5, 2, 2.5, 3, 3.5, 4, 4.5]):\n",
    "    p = Polytrope(nindex)\n",
    "    params = p.get_params()\n",
    "    if i == 0:\n",
    "        print(f\"{'n':4} : {'ξ_1':^20} {'-ξ_1**2 dθ/ξ |_{ξ_1}':^20}\")\n",
    "    print(f\"{nindex:4} : {params[0]:20.10g} {params[1]:20.10g}\")"
   ]
  },
  {
   "cell_type": "markdown",
   "metadata": {},
   "source": [
    "### accuracy\n",
    "\n",
    "We can look at the accuracy by varying the step size, $h$, we use in the Runge-Kutta integration."
   ]
  },
  {
   "cell_type": "code",
   "execution_count": 6,
   "metadata": {},
   "outputs": [
    {
     "name": "stdout",
     "output_type": "stream",
     "text": [
      "h0     :         ξ_1          -ξ_1**2 dθ/ξ |_{ξ_1}\n",
      "     1 :          3.633871294          2.743950221\n",
      "   0.5 :           3.65249039          2.714155735\n",
      "  0.25 :          3.653696012          2.714041475\n",
      " 0.125 :          3.653751185          2.714057167\n"
     ]
    }
   ],
   "source": [
    "for i, h in enumerate([1, 0.5, 0.25, 0.125]):\n",
    "    p = Polytrope(1.5, h0=h, first_order=False)\n",
    "    params = p.get_params()\n",
    "    if i == 0:\n",
    "        print(f\"{'h0':6} : {'ξ_1':^20} {'-ξ_1**2 dθ/ξ |_{ξ_1}':^20}\")\n",
    "    print(f\"{h:6} : {params[0]:20.10g} {params[1]:20.10g}\")"
   ]
  },
  {
   "cell_type": "markdown",
   "metadata": {},
   "source": [
    "we see that, for this value of n, once we have a stepsize $h = 0.25$, our solution changes only in the 3rd decimal place.  So we are pretty accurate then."
   ]
  },
  {
   "cell_type": "markdown",
   "metadata": {},
   "source": [
    "## Alternate approach: SciPy"
   ]
  },
  {
   "cell_type": "markdown",
   "metadata": {},
   "source": [
    "Instead of writing our own integrator, we can use those built into SciPy.  We do need to be careful to ensure that we stop when $\\theta$ reaches 0.  The SciPy `solve_ivp()` integrator uses Runge-Kutta by default.  Additionally, it has \"events\" that can be used to stop the integration when we reach the surface of the star."
   ]
  },
  {
   "cell_type": "code",
   "execution_count": 7,
   "metadata": {},
   "outputs": [],
   "source": [
    "from scipy import integrate"
   ]
  },
  {
   "cell_type": "markdown",
   "metadata": {},
   "source": [
    "We define the righthand side function now.  It is almost the same as I did above, except that since the built in solver we go past the surface of the star as it seaches for the actual surface, we need to protect against taking a negative number to a fractional power.  I do this here by adding an `abs()` in the `zdot` term."
   ]
  },
  {
   "cell_type": "code",
   "execution_count": 8,
   "metadata": {},
   "outputs": [],
   "source": [
    "def le_rhs(xi, yvec, n):\n",
    "    y, z = yvec\n",
    "    ydot = z\n",
    "    if xi == 0.0:\n",
    "        zdot = (2.0/3.0) - y**n\n",
    "    else:\n",
    "        zdot = -2.0*z/xi - abs(y)**n\n",
    "    return [ydot, zdot]\n",
    "        "
   ]
  },
  {
   "cell_type": "markdown",
   "metadata": {},
   "source": [
    "Next we define an event that the integrator will use to determine when to stop.  Our function surface just returns our variable $y = \\theta$.  We add 2 attributes to it (this is a little bit of a clumsy way of doing things).  The first says that when the event is met, the integration should stop.  The second says that the condition we are looking for is a change in the sign of the return value."
   ]
  },
  {
   "cell_type": "code",
   "execution_count": 9,
   "metadata": {},
   "outputs": [],
   "source": [
    "def surface(xi, y, n):\n",
    "    return y[0]\n",
    "surface.terminal = True\n",
    "surface.direction = -1"
   ]
  },
  {
   "cell_type": "markdown",
   "metadata": {},
   "source": [
    "Now we setup the integration.  By default it will do Runge-Kutta, but it will vary the step size as needed to get a reasonable solution.  We specify `dense_output=True` so we can look at the entire solution.  We also need to pass an extra argument to our `le_rhs()` routine -- the polytropic index `n`, which we do using the `args` keyword argument."
   ]
  },
  {
   "cell_type": "code",
   "execution_count": 10,
   "metadata": {},
   "outputs": [],
   "source": [
    "n = 1.5\n",
    "\n",
    "# initial conditions\n",
    "y0 = [1, 0]\n",
    "\n",
    "# maximum possible xi value -- we'll likely stop before this\n",
    "ximax = 100\n",
    "\n",
    "sol = integrate.solve_ivp(le_rhs, [0, ximax], y0,\n",
    "                          dense_output=True, events=surface, args=(n,))"
   ]
  },
  {
   "cell_type": "markdown",
   "metadata": {},
   "source": [
    "Now that it is integrated, we can see the points where it actually needed the solution as `sol.t`.  $\\xi_1$ would be the last of these points."
   ]
  },
  {
   "cell_type": "code",
   "execution_count": 11,
   "metadata": {},
   "outputs": [
    {
     "name": "stdout",
     "output_type": "stream",
     "text": [
      "3.65782463879207\n"
     ]
    }
   ],
   "source": [
    "xi1 = sol.t[-1]\n",
    "print(xi1)"
   ]
  },
  {
   "cell_type": "markdown",
   "metadata": {},
   "source": [
    "Now we fill in the solution to get the dense output."
   ]
  },
  {
   "cell_type": "code",
   "execution_count": 12,
   "metadata": {},
   "outputs": [],
   "source": [
    "xi = np.linspace(0, xi1, 100)\n",
    "y = sol.sol(xi)"
   ]
  },
  {
   "cell_type": "markdown",
   "metadata": {},
   "source": [
    "We can then plot this polytrope"
   ]
  },
  {
   "cell_type": "code",
   "execution_count": 13,
   "metadata": {},
   "outputs": [
    {
     "data": {
      "text/plain": [
       "[<matplotlib.lines.Line2D at 0x7f9692861ee0>]"
      ]
     },
     "execution_count": 13,
     "metadata": {},
     "output_type": "execute_result"
    },
    {
     "data": {
      "image/png": "[encoded data removed]",
      "text/plain": [
       "<Figure size 432x288 with 1 Axes>"
      ]
     },
     "metadata": {
      "needs_background": "light"
     },
     "output_type": "display_data"
    }
   ],
   "source": [
    "plt.plot(xi, y[0,:])"
   ]
  },
  {
   "cell_type": "code",
   "execution_count": null,
   "metadata": {},
   "outputs": [],
   "source": []
  }
 ],
 "metadata": {
  "kernelspec": {
   "display_name": "Python 3",
   "language": "python",
   "name": "python3"
  },
  "language_info": {
   "codemirror_mode": {
    "name": "ipython",
    "version": 3
   },
   "file_extension": ".py",
   "mimetype": "text/x-python",
   "name": "python",
   "nbconvert_exporter": "python",
   "pygments_lexer": "ipython3",
   "version": "3.8.5"
  }
 },
 "nbformat": 4,
 "nbformat_minor": 4
}
