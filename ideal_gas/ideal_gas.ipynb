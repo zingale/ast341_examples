{
 "cells": [
  {
   "cell_type": "markdown",
   "metadata": {},
   "source": [
    "# AST 341 homework 2"
   ]
  },
  {
   "cell_type": "code",
   "execution_count": 1,
   "metadata": {},
   "outputs": [
    {
     "name": "stdout",
     "output_type": "stream",
     "text": [
      "IPython console for SymPy 1.6.2 (Python 3.8.5-64-bit) (ground types: python)\n",
      "\n",
      "These commands were executed:\n",
      ">>> from __future__ import division\n",
      ">>> from sympy import *\n",
      ">>> x, y, z, t = symbols('x y z t')\n",
      ">>> k, m, n = symbols('k m n', integer=True)\n",
      ">>> f, g, h = symbols('f g h', cls=Function)\n",
      ">>> init_printing()\n",
      "\n",
      "Documentation can be found at https://docs.sympy.org/1.6.2/\n",
      "\n"
     ]
    }
   ],
   "source": [
    "from sympy import init_session\n",
    "init_session()"
   ]
  },
  {
   "cell_type": "markdown",
   "metadata": {},
   "source": [
    "## 1.\n",
    "\n",
    "a. We want to compute the pressure for a gas that obeys the Maxwell-Boltzmann distribution:\n",
    "\n",
    "\\begin{equation}\n",
    "4\\pi p^2 n(p) dp = \\frac{n_I}{(2\\pi m_I kT)^{3/2}} e^{-p^2/(2m_I kT)} 4 \\pi p^2 dp\n",
    "\\end{equation}\n",
    "\n",
    "Our pressure integral is:\n",
    "\\begin{equation}\n",
    "P = \\frac{1}{3} \\int n(p) p v d^3 p = \\frac{1}{3} \\int_0^{\\infty} 4\\pi p^2 n(p) p v dp\n",
    "\\end{equation}\n",
    "and for a non-relativistic gas, we can take $v = p/m_I$"
   ]
  },
  {
   "cell_type": "markdown",
   "metadata": {},
   "source": [
    "Define the symbols we will use&mdash;make sure we tell SymPy which are positive and real, since we have a square root in our functions"
   ]
  },
  {
   "cell_type": "code",
   "execution_count": 2,
   "metadata": {},
   "outputs": [],
   "source": [
    "nI, m, k, T = symbols(\"n_I m_I k T\", positive=True, real=True)\n",
    "p = symbols(\"p\")"
   ]
  },
  {
   "cell_type": "markdown",
   "metadata": {},
   "source": [
    "Define the distribution function, $n(p)$"
   ]
  },
  {
   "cell_type": "code",
   "execution_count": 3,
   "metadata": {},
   "outputs": [
    {
     "data": {
      "image/png": "[encoded data removed]",
      "text/latex": [
       "$\\displaystyle \\frac{\\sqrt{2} n_{I} e^{- \\frac{p^{2}}{2 T k m_{I}}}}{4 \\pi^{\\frac{3}{2}} T^{\\frac{3}{2}} k^{\\frac{3}{2}} m_{I}^{\\frac{3}{2}}}$"
      ],
      "text/plain": [
       "                2      \n",
       "              -p       \n",
       "           ─────────   \n",
       "           2⋅T⋅k⋅m_I   \n",
       "   √2⋅n_I⋅ℯ            \n",
       "───────────────────────\n",
       "   3/2  3/2  3/2    3/2\n",
       "4⋅π   ⋅T   ⋅k   ⋅m_I   "
      ]
     },
     "execution_count": 3,
     "metadata": {},
     "output_type": "execute_result"
    }
   ],
   "source": [
    "n = nI/(2*pi*m*k*T)**Rational(3,2) * exp(-p**2/(2*m*k*T))\n",
    "n"
   ]
  },
  {
   "cell_type": "markdown",
   "metadata": {},
   "source": [
    "Now do the integral.  Note we indicate $\\infty$ as `oo`"
   ]
  },
  {
   "cell_type": "code",
   "execution_count": 4,
   "metadata": {},
   "outputs": [
    {
     "data": {
      "image/png": "[encoded data removed]",
      "text/latex": [
       "$\\displaystyle T k n_{I}$"
      ],
      "text/plain": [
       "T⋅k⋅n_I"
      ]
     },
     "execution_count": 4,
     "metadata": {},
     "output_type": "execute_result"
    }
   ],
   "source": [
    "P = Rational(1,3) * integrate(4*pi*p**2 * n * p * (p / m), (p, 0, oo))\n",
    "P"
   ]
  },
  {
   "cell_type": "markdown",
   "metadata": {},
   "source": [
    "Notice that we get the ideal gas law!\n",
    "\\begin{equation}\n",
    "P = n_I k T\n",
    "\\end{equation}"
   ]
  },
  {
   "cell_type": "markdown",
   "metadata": {},
   "source": [
    "b. Now we want to compute the energy\n",
    "\n",
    "\\begin{equation}\n",
    "e = \\frac{1}{\\rho} \\int_0^\\infty 4\\pi p^2 \\mathcal{E}(p) n(p) dp\n",
    "\\end{equation}\n",
    "where the kinetic energy for a single particle is just\n",
    "\\begin{equation}\n",
    "\\mathcal{E}(p) = \\frac{p^2}{2 m_I}\n",
    "\\end{equation}\n",
    "for a non-relativistic gas"
   ]
  },
  {
   "cell_type": "code",
   "execution_count": 5,
   "metadata": {},
   "outputs": [],
   "source": [
    "rho = symbols(\"rho\", positive=True)"
   ]
  },
  {
   "cell_type": "code",
   "execution_count": 6,
   "metadata": {},
   "outputs": [
    {
     "data": {
      "image/png": "[encoded data removed]",
      "text/latex": [
       "$\\displaystyle \\frac{3 T k n_{I}}{2 \\rho}$"
      ],
      "text/plain": [
       "3⋅T⋅k⋅n_I\n",
       "─────────\n",
       "   2⋅ρ   "
      ]
     },
     "execution_count": 6,
     "metadata": {},
     "output_type": "execute_result"
    }
   ],
   "source": [
    "e = rho**-1 * integrate(4*pi*p**2 * p**2 / (2*m) * n, (p, 0, oo))\n",
    "e"
   ]
  },
  {
   "cell_type": "markdown",
   "metadata": {},
   "source": [
    "So\n",
    "\\begin{equation}\n",
    "\\rho e = \\frac{3}{2} n_I k T\n",
    "\\end{equation}\n",
    "\n",
    "This shows us that\n",
    "\\begin{equation}\n",
    "\\rho e = \\frac{3}{2} P\n",
    "\\end{equation}\n"
   ]
  },
  {
   "cell_type": "code",
   "execution_count": null,
   "metadata": {},
   "outputs": [],
   "source": []
  }
 ],
 "metadata": {
  "kernelspec": {
   "display_name": "Python 3",
   "language": "python",
   "name": "python3"
  },
  "language_info": {
   "codemirror_mode": {
    "name": "ipython",
    "version": 3
   },
   "file_extension": ".py",
   "mimetype": "text/x-python",
   "name": "python",
   "nbconvert_exporter": "python",
   "pygments_lexer": "ipython3",
   "version": "3.8.5"
  }
 },
 "nbformat": 4,
 "nbformat_minor": 4
}
