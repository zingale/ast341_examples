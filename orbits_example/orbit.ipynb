{
 "cells": [
  {
   "cell_type": "markdown",
   "metadata": {},
   "source": [
    "# Integrating Orbits\n",
    "\n",
    "This is a demonstration of Euler's method for integrating orbits."
   ]
  },
  {
   "cell_type": "code",
   "execution_count": 1,
   "metadata": {},
   "outputs": [],
   "source": [
    "import numpy as np\n",
    "import matplotlib.pyplot as plt\n",
    "%matplotlib inline"
   ]
  },
  {
   "cell_type": "markdown",
   "metadata": {},
   "source": [
    "We consider low mass objects orbiting the Sun.  We work in units of AU, yr, and solar masses.  From Kepler's third law:\n",
    "\n",
    "\\begin{equation}\n",
    "4 \\pi^2 a^3 = G M P^2\n",
    "\\end{equation}\n",
    "\n",
    "If $a$ is in AU, $P$ is in yr, and $M$ is in solar masses, then\n",
    "\\begin{equation}\n",
    "a^3 = P^2\n",
    "\\end{equation}\n",
    "and therefore\n",
    "\\begin{equation}\n",
    "4 \\pi^2 = G\n",
    "\\end{equation}\n",
    "\n",
    "We work in coordinates with the Sun at the origin\n"
   ]
  },
  {
   "cell_type": "code",
   "execution_count": 2,
   "metadata": {},
   "outputs": [],
   "source": [
    "# assuming 1 solar mass\n",
    "GM = 4*np.pi**2"
   ]
  },
  {
   "cell_type": "code",
   "execution_count": 3,
   "metadata": {},
   "outputs": [],
   "source": [
    "def rhs(x, y, u, v):\n",
    "    \"\"\" RHS of the equations of motion.  X is the input coordinate\n",
    "        vector and V is the input velocity vector \"\"\"\n",
    "\n",
    "    # current radius\n",
    "    r = np.sqrt(x**2 + y**2)\n",
    "\n",
    "    # position derivatives\n",
    "    xdot = u\n",
    "    ydot = v\n",
    "\n",
    "    # velocity derivatives\n",
    "    udot = -GM*x/r**3\n",
    "    vdot = -GM*y/r**3\n",
    "\n",
    "    return xdot, ydot, udot, vdot\n"
   ]
  },
  {
   "cell_type": "markdown",
   "metadata": {},
   "source": [
    "A simple class for storing the solution history and plotting it"
   ]
  },
  {
   "cell_type": "code",
   "execution_count": 4,
   "metadata": {},
   "outputs": [],
   "source": [
    "class Orbit:\n",
    "    def __init__(self):\n",
    "        self.t = []\n",
    "        self.x = []\n",
    "        self.y = []\n",
    "        self.u = []\n",
    "        self.v = []\n",
    "        \n",
    "    def add_point(self, time, xnew, ynew, unew, vnew):\n",
    "        self.x.append(xnew)\n",
    "        self.y.append(ynew)\n",
    "        self.u.append(unew)\n",
    "        self.v.append(vnew)\n",
    "        \n",
    "    def plot(self):\n",
    "        fig = plt.figure()\n",
    "        ax = fig.add_subplot(111)\n",
    "\n",
    "        _ = ax.plot(orbit.x, orbit.y)\n",
    "        _ = ax.set_aspect(\"equal\", \"datalim\")\n",
    "        return fig"
   ]
  },
  {
   "cell_type": "code",
   "execution_count": 5,
   "metadata": {},
   "outputs": [],
   "source": [
    "def integrate(x0, y0, u0, v0, tmax, dt):\n",
    "    \"\"\"integrate the orbit with initial conditions X0, V0, using a\n",
    "    timestep dt for a duration tmax\"\"\"\n",
    "    \n",
    "    t = 0\n",
    "    x = x0\n",
    "    y = y0\n",
    "    u = u0\n",
    "    v = v0\n",
    "    \n",
    "    o = Orbit()\n",
    "    o.add_point(t, x, y, u, v)\n",
    "    \n",
    "    while (t < tmax):\n",
    "    \n",
    "        xdot, ydot, udot, vdot = rhs(x, y, u, v)\n",
    "        x += dt * xdot\n",
    "        y += dt * ydot\n",
    "        u += dt * udot\n",
    "        v += dt * vdot\n",
    "        \n",
    "        t += dt\n",
    "        \n",
    "        o.add_point(t, x, y, u, v)\n",
    "        \n",
    "        if t + dt > tmax:\n",
    "            dt = tmax - t\n",
    "        \n",
    "    return o"
   ]
  },
  {
   "cell_type": "markdown",
   "metadata": {},
   "source": [
    "Initial conditions are at perihelion with counter clockwise orbit:\n",
    "\\begin{align*}\n",
    "x &= 0 \\\\\n",
    "y &= a(1-e) \\\\\n",
    "u &= \\sqrt{\\frac{GM}{a} \\frac{1+e}{1-e}} \\\\\n",
    "v &= 0\n",
    "\\end{align*}"
   ]
  },
  {
   "cell_type": "code",
   "execution_count": 6,
   "metadata": {},
   "outputs": [],
   "source": [
    "def init_conditions(a, e):\n",
    "    x0 = 0.0\n",
    "    y0 = a*(1.0 - e)\n",
    "    u0 = -np.sqrt((GM/a)* (1.0 + e) / (1.0 - e))\n",
    "    v0 = 0.0\n",
    "    \n",
    "    return x0, y0, u0, v0"
   ]
  },
  {
   "cell_type": "markdown",
   "metadata": {},
   "source": [
    "To integrate the orbit, we set the semi-major axis and eccentricity, specify one period (`tmax = 1`), and a timestep"
   ]
  },
  {
   "cell_type": "code",
   "execution_count": 7,
   "metadata": {},
   "outputs": [],
   "source": [
    "a = 1.0\n",
    "e = 0.0\n",
    "x0, y0, u0, v0 = init_conditions(a, e)\n",
    "\n",
    "orbit = integrate(x0, y0, u0, v0, 1.0, 0.1)\n"
   ]
  },
  {
   "cell_type": "code",
   "execution_count": 8,
   "metadata": {},
   "outputs": [
    {
     "data": {
      "image/png": "[encoded data removed]",
      "text/plain": [
       "<Figure size 432x288 with 1 Axes>"
      ]
     },
     "metadata": {
      "needs_background": "light"
     },
     "output_type": "display_data"
    }
   ],
   "source": [
    "fig = orbit.plot()"
   ]
  },
  {
   "cell_type": "code",
   "execution_count": null,
   "metadata": {},
   "outputs": [],
   "source": []
  }
 ],
 "metadata": {
  "kernelspec": {
   "display_name": "Python 3",
   "language": "python",
   "name": "python3"
  },
  "language_info": {
   "codemirror_mode": {
    "name": "ipython",
    "version": 3
   },
   "file_extension": ".py",
   "mimetype": "text/x-python",
   "name": "python",
   "nbconvert_exporter": "python",
   "pygments_lexer": "ipython3",
   "version": "3.8.5"
  }
 },
 "nbformat": 4,
 "nbformat_minor": 4
}
